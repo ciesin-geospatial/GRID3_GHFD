{
  "cells": [
    {
      "cell_type": "markdown",
      "metadata": {
        "id": "L5j23M1Uc-uN"
      },
      "source": [
        "## Objective:\n",
        "Creating a list of misspellings in health facility types as extracted from from facility names in a health facility dataset.\n",
        "\n",
        "#Process\n",
        "\n",
        "\n",
        "### Step 1: \n",
        "* Make a copy of this script and add the name of your country, e.g. spelling_dictionaries_MOZ. Then, create a table with misspelled health facility type: This table will be generated after you run this notebook properly.\n",
        "\n",
        "### Step 2:\n",
        "* Go through each misspelled name in the misspelled type table:\n",
        "We will use a misspelled type table in the next step to fix misspeling in some words. For example, we will convert all \"hooital,hodpital,hopitap,hodpital\" to \"hospital\". However, in some cases, some words that we find misspelled may not be wrong. For example, assume that \n",
        "this notebook finds that \"sainte\" should be spelled as \"sante\" (French for 'health') because they are very similar, but this assumption is not accurate. 'Sainte' could refer to 'Saint' (e.g. Sainte Marie) which is part of the facility name, not type. We should not convert 'sainte' to 'sante'. You should find these cases and delete them from the misspelled type table. \n",
        "\n",
        "\n",
        "### Step 3:\n",
        "\n",
        "* Repeat steps 1 and 2 for each health facility dataset you have explored in previous landscaping exercises \n",
        "\n",
        "### Step 4:\n",
        "\n",
        "* Combine all the misspelled type table that you created for each health facility dataset into one excel file. Upload that file to your country's Dictionaries folder in the google drive. \n",
        "\n",
        "\n",
        "\n"
      ]
    },
    {
      "cell_type": "markdown",
      "metadata": {
        "id": "DP9sugSQwq6B"
      },
      "source": [
        "# Part 1 : Import Modules\n"
      ]
    },
    {
      "cell_type": "markdown",
      "source": [
        "The cell below imports some modules that are not existant in python's default enviroment. You need to run the cell below to import external modules into the notebook environment. Just run the cell without modifying it."
      ],
      "metadata": {
        "id": "foCSbL5enkSn"
      }
    },
    {
      "cell_type": "code",
      "source": [
        "!pip install symspellpy\n",
        "!pip install thefuzz"
      ],
      "metadata": {
        "id": "PbGteNYWhzS5",
        "colab": {
          "base_uri": "https://localhost:8080/"
        },
        "outputId": "2a692bb1-56b7-4687-bbf9-a5026d5a5cb7"
      },
      "execution_count": null,
      "outputs": [
        {
          "output_type": "stream",
          "name": "stdout",
          "text": [
            "Collecting symspellpy\n",
            "  Downloading symspellpy-6.7.6-py3-none-any.whl (2.6 MB)\n",
            "\u001b[K     |████████████████████████████████| 2.6 MB 8.7 MB/s \n",
            "\u001b[?25hCollecting editdistpy>=0.1.3\n",
            "  Downloading editdistpy-0.1.3-cp37-cp37m-manylinux_2_5_x86_64.manylinux1_x86_64.manylinux_2_17_x86_64.manylinux2014_x86_64.whl (125 kB)\n",
            "\u001b[K     |████████████████████████████████| 125 kB 57.3 MB/s \n",
            "\u001b[?25hInstalling collected packages: editdistpy, symspellpy\n",
            "Successfully installed editdistpy-0.1.3 symspellpy-6.7.6\n",
            "Collecting thefuzz\n",
            "  Downloading thefuzz-0.19.0-py2.py3-none-any.whl (17 kB)\n",
            "Installing collected packages: thefuzz\n",
            "Successfully installed thefuzz-0.19.0\n"
          ]
        }
      ]
    },
    {
      "cell_type": "markdown",
      "metadata": {
        "id": "NeySdVNJenC_"
      },
      "source": [
        "The cell below imports required modules. Just run the cell without modifying it. It does not create any output. It runs very fast. Run the cell by hovering over the cell and clicking the icon in the top left. When it is finished, a green checkmark will appear to the left of the cell.\n"
      ]
    },
    {
      "cell_type": "code",
      "execution_count": null,
      "metadata": {
        "id": "DkFQNLoVcphu"
      },
      "outputs": [],
      "source": [
        "import pandas as pd\n",
        "import re,os\n",
        "from google.colab import files\n",
        "import io\n",
        "from thefuzz import process, fuzz\n",
        "from symspellpy import SymSpell"
      ]
    },
    {
      "cell_type": "markdown",
      "metadata": {
        "id": "y5cNyZv0w9cS"
      },
      "source": [
        "# Part 2: Provide required inputs"
      ]
    },
    {
      "cell_type": "markdown",
      "metadata": {
        "id": "Oj6jD_ZBga0T"
      },
      "source": [
        "The cell below requires some inputs from you. Please provide required inputs as explained below and then click the run icon on the top left of the cell:\n",
        "\n",
        "\n",
        "*   **country name** : ISO code of country (eg. MWI, KEN, ZMB etc)\n",
        "*   **health_facility_table**: Name of the table for which you want to create a misspelled type table. For our case it is one of the health facility datasets you've explored previously. Ideally you should use the HF dataset that you modified with standardized column names. The table file format should be csv or xlsx\n",
        "*   **type_dictionary_table**: type_dictionary_table that you created from the previous python exercise\n",
        "\n",
        "* **facility_name**: Column name in the input table (aka health facility dataset) for the column that has facility name. If using the HF dataset version that you modified with column name standardization, you would put \"facility_name\" here\n",
        "\n",
        "\n",
        "\n"
      ]
    },
    {
      "cell_type": "code",
      "execution_count": null,
      "metadata": {
        "id": "IryaZ-Q8ckHk"
      },
      "outputs": [],
      "source": [
        "country_name=\"UGA\"\n",
        "health_facility_table=\"Uganda_MFL_modified.xlsx\"\n",
        "type_dictionary_table=\"Uganda_Combined_Health Facility_word_frequency.xlsx\"\n",
        "facility_name=\"facility_name2\"\n"
      ]
    },
    {
      "cell_type": "markdown",
      "metadata": {
        "id": "6Nl01tGYxjVr"
      },
      "source": [
        "# Part 3: Upload input table"
      ]
    },
    {
      "cell_type": "markdown",
      "metadata": {
        "id": "cS5oWhC6ip-f"
      },
      "source": [
        "The cell below allows you to choose the input table from your computer. After you run the cell below, you should see a **choose files** option. Click on the **choose files** option and then navigate your computer to find the files you want to read as **health_facility_table** (aka the health facility dataset) and **type_dictionary_table** from the last exercise. You should **choose both files at the same time**. It may take some time for Python to read a table based on file size and speed of your internet connection.\n",
        " \n"
      ]
    },
    {
      "cell_type": "code",
      "execution_count": null,
      "metadata": {
        "colab": {
          "base_uri": "https://localhost:8080/",
          "height": 108,
          "resources": {
            "http://localhost:8080/nbextensions/google.colab/files.js": {
              "data": "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",
              "headers": [
                [
                  "content-type",
                  "application/javascript"
                ]
              ],
              "ok": true,
              "status": 200,
              "status_text": ""
            }
          }
        },
        "id": "K4-cHe6xc6FX",
        "outputId": "e52205d9-7b3d-4d04-c53d-9c3250056bf1"
      },
      "outputs": [
        {
          "output_type": "display_data",
          "data": {
            "text/plain": [
              "<IPython.core.display.HTML object>"
            ],
            "text/html": [
              "\n",
              "     <input type=\"file\" id=\"files-45ccc901-31c2-47e5-ae61-d1e7452acc57\" name=\"files[]\" multiple disabled\n",
              "        style=\"border:none\" />\n",
              "     <output id=\"result-45ccc901-31c2-47e5-ae61-d1e7452acc57\">\n",
              "      Upload widget is only available when the cell has been executed in the\n",
              "      current browser session. Please rerun this cell to enable.\n",
              "      </output>\n",
              "      <script src=\"/nbextensions/google.colab/files.js\"></script> "
            ]
          },
          "metadata": {}
        },
        {
          "output_type": "stream",
          "name": "stdout",
          "text": [
            "Saving test_health_facility.csv to test_health_facility (1).csv\n",
            "Saving test_type_dict.csv to test_type_dict (1).csv\n"
          ]
        }
      ],
      "source": [
        "uploaded=files.upload()"
      ]
    },
    {
      "cell_type": "markdown",
      "metadata": {
        "id": "EmOq-aNOxwme"
      },
      "source": [
        "#Part 4: Create word frequency table"
      ]
    },
    {
      "cell_type": "markdown",
      "metadata": {
        "id": "gb8NkV48mVu6"
      },
      "source": [
        "Run the cell below. No need for any modification. After processing is done, you should see a csv file downloaded to your computer. The file is going to be saved in your **downloads** directory. The output table will have the same name as the health facility dataset with spelling_dictionary at the end. For example, if the input table name is DRC_health_facility, the output table name is going to be DRC_health_facility_spelling_dictionary."
      ]
    },
    {
      "cell_type": "code",
      "execution_count": null,
      "metadata": {
        "colab": {
          "base_uri": "https://localhost:8080/",
          "height": 51
        },
        "id": "_KH2cFtccwOR",
        "outputId": "62f7381b-0cb3-48bb-de28-6accfb5b7ca1"
      },
      "outputs": [
        {
          "output_type": "stream",
          "name": "stderr",
          "text": [
            "/usr/local/lib/python3.7/dist-packages/ipykernel_launcher.py:17: FutureWarning: The default value of regex will change from True to False in a future version.\n",
            "/usr/local/lib/python3.7/dist-packages/ipykernel_launcher.py:20: FutureWarning: The default value of regex will change from True to False in a future version.\n"
          ]
        },
        {
          "output_type": "display_data",
          "data": {
            "text/plain": [
              "<IPython.core.display.Javascript object>"
            ],
            "application/javascript": [
              "\n",
              "    async function download(id, filename, size) {\n",
              "      if (!google.colab.kernel.accessAllowed) {\n",
              "        return;\n",
              "      }\n",
              "      const div = document.createElement('div');\n",
              "      const label = document.createElement('label');\n",
              "      label.textContent = `Downloading \"${filename}\": `;\n",
              "      div.appendChild(label);\n",
              "      const progress = document.createElement('progress');\n",
              "      progress.max = size;\n",
              "      div.appendChild(progress);\n",
              "      document.body.appendChild(div);\n",
              "\n",
              "      const buffers = [];\n",
              "      let downloaded = 0;\n",
              "\n",
              "      const channel = await google.colab.kernel.comms.open(id);\n",
              "      // Send a message to notify the kernel that we're ready.\n",
              "      channel.send({})\n",
              "\n",
              "      for await (const message of channel.messages) {\n",
              "        // Send a message to notify the kernel that we're ready.\n",
              "        channel.send({})\n",
              "        if (message.buffers) {\n",
              "          for (const buffer of message.buffers) {\n",
              "            buffers.push(buffer);\n",
              "            downloaded += buffer.byteLength;\n",
              "            progress.value = downloaded;\n",
              "          }\n",
              "        }\n",
              "      }\n",
              "      const blob = new Blob(buffers, {type: 'application/binary'});\n",
              "      const a = document.createElement('a');\n",
              "      a.href = window.URL.createObjectURL(blob);\n",
              "      a.download = filename;\n",
              "      div.appendChild(a);\n",
              "      a.click();\n",
              "      div.remove();\n",
              "    }\n",
              "  "
            ]
          },
          "metadata": {}
        },
        {
          "output_type": "display_data",
          "data": {
            "text/plain": [
              "<IPython.core.display.Javascript object>"
            ],
            "application/javascript": [
              "download(\"download_1fa37053-7b23-4d36-8408-a645867e5b42\", \"test_health_facility_spelling_dictionary.csv\", 2726)"
            ]
          },
          "metadata": {}
        }
      ],
      "source": [
        "def preclean(df, input_variable, output_variable, remove_accent=False):\n",
        "  '''\n",
        "    Basic cleaning and standardization of a column\n",
        "    :param df: dataframe\n",
        "    :param input_variable: a column name to be cleaned/standardized\n",
        "    :param output_variable: cleaned/standardized column name\n",
        "    :param remove_accent:remove french characters\n",
        "    :return: dataframe\n",
        "  '''\n",
        "    ##=============================================================================#\n",
        "  df[output_variable] = df[input_variable] + \" \"\n",
        "  # replace NAs with empty string ''\n",
        "  df[output_variable] = df[output_variable].fillna('')\n",
        "  # remove accent marks\n",
        "  if remove_accent:\n",
        "      df[output_variable] = [unidecode.unidecode(n) for n in df[output_variable]]\n",
        "  df[output_variable] = df[output_variable] \\\n",
        "      .str.replace(\" III | Iii  | iii \", \" 3 \") \\\n",
        "      .str.replace(\" II | Ii  | ii \", \" 2 \") \\\n",
        "      .str.replace(\" I | i \", \" 1 \") \\\n",
        "      .str.replace(\" IV | Iv | iv \", \" 4 \") \\\n",
        "      .str.replace('&', 'and')\n",
        "  df[output_variable] = df[output_variable].apply(lambda x: \" \".join(re.split('(\\d+)', x)))\n",
        "  df[output_variable] = df[output_variable].map(lambda x: re.sub(r'[^a-zA-Z0-9]', ' ', x)).str.strip().str.replace(\"  \",\" \")\n",
        "  df[output_variable] = df[output_variable].str.title(). \\\n",
        "      str.replace(r'\\s+', ' ').str.strip()\n",
        "  # replace NAs in output_variable with empty string ''\n",
        "  df[output_variable] = df[output_variable].fillna(' ')\n",
        "\n",
        "\n",
        "\n",
        "\n",
        "\n",
        "def generate_misspellings(df,input_var,type_dict, admin_name,  skip_spellings=[], min_length=5):\n",
        "    '''\n",
        "\n",
        "    :param df:  input df\n",
        "    :param input_var: Name of the field to extract type info\n",
        "    :param type_dict: type dictionary\n",
        "    :param admin_name: name of the admin. It can be a country name, district name or province name\n",
        "    :param output_path: location to save word frequancy table\n",
        "    :return: type table\n",
        "    '''\n",
        "\n",
        "\n",
        "\n",
        "    type_dict=type_dict[type_dict.type.notnull()]\n",
        "    type_keywords = ' '.join(list(type_dict['type'].str.lower())).split()\n",
        "\n",
        "    # convert from list to set to remove repeating words, then convert to list again\n",
        "    type_keywords_all = list(set(type_keywords))\n",
        "    # keep only keywords with the minimum length\n",
        "    type_keywords_to_check = [word for word in type_keywords_all if len(word) >= min_length]\n",
        "\n",
        "    preclean(df, input_var, \"clean_name\")\n",
        "\n",
        "    names = ' '.join(list(df[~pd.isna(df[\"clean_name\"])][\"clean_name\"].str.lower())).split()\n",
        "    columns = ['name', 'word', 'misspelling', 'frequency', 'score']\n",
        "    results = pd.DataFrame()\n",
        "    for word in type_keywords_to_check:\n",
        "        # keep just words that start with the same letter as the type keyword\n",
        "        # and have length at least half of the length of the type keyword\n",
        "        # also remove the words that already appear in type keywords\n",
        "        start_char = word[0]  # first letter\n",
        "        min_len = len(word) // 2  # minimum length requirement\n",
        "        names_word = [name for name in names if name.startswith(start_char)\n",
        "                      and len(name) > min_len and name not in type_keywords_all]\n",
        "\n",
        "        # write the relevant words to a text file\n",
        "        filename = word + \".txt\"\n",
        "        file1 = open(filename, \"w\")\n",
        "        file1.write(' '.join(names_word))\n",
        "        file1.close()\n",
        "\n",
        "        # generate word frequency dictionary\n",
        "        sym_spell = SymSpell()\n",
        "        sym_spell.create_dictionary(filename)\n",
        "        freq_dict = sym_spell.words\n",
        "        # remove the text file\n",
        "        os.remove(filename)\n",
        "\n",
        "        # compute similarity score with respect to the original word\n",
        "        threshold = (len(word) - 1) / len(word)  # score threshold\n",
        "        for spelling, frequency in freq_dict.items():\n",
        "            if spelling in skip_spellings:\n",
        "                continue\n",
        "            ratio = fuzz.ratio(spelling, word)\n",
        "            if ratio / 100 >= threshold:\n",
        "                new_row = pd.DataFrame([[admin_name, word, spelling, frequency, ratio]], columns=columns)\n",
        "                results = pd.concat([results, new_row])\n",
        "\n",
        "    if results.shape[0] > 0:\n",
        "        results['name'] = results['name'].str.upper()\n",
        "    # reset and drop index\n",
        "    results.reset_index(inplace=True, drop=True)\n",
        "    return results\n",
        "\n",
        "# read health facility table\n",
        "if health_facility_table.endswith(\".csv\"):  \n",
        "  hf_df=pd.read_csv(io.BytesIO(uploaded[health_facility_table])) \n",
        "elif health_facility_table.endswith(\".xlsx\") :  \n",
        "  hf_df=pd.read_excel(io.BytesIO(uploaded[health_facility_table])) \n",
        "\n",
        "# read word frequency table table\n",
        "if type_dictionary_table.endswith(\".csv\"):  \n",
        "  sp_df=pd.read_csv(io.BytesIO(uploaded[type_dictionary_table])) \n",
        "elif type_dictionary_table.endswith(\".xlsx\") :  \n",
        "  sp_df=pd.read_excel(io.BytesIO(uploaded[type_dictionary_table])) \n",
        "\n",
        "spelling_df=generate_misspellings(hf_df,facility_name,sp_df, country_name)\n",
        "#export type_df\n",
        "output_table_name=health_facility_table.split(\".\")[0]+\"_spelling_dictionary.csv\"\n",
        "spelling_df.to_csv(output_table_name)\n",
        "files.download(output_table_name)"
      ]
    },
    {
      "cell_type": "markdown",
      "metadata": {
        "id": "pxEALiiW0-Hi"
      },
      "source": [
        "#Part 5: Repeat for all datasets and combine into one file"
      ]
    },
    {
      "cell_type": "markdown",
      "metadata": {
        "id": "EHo4AUPi1P-U"
      },
      "source": [
        "Repeat all steps for each health facility dataset you have explored in previous landscaping exercises \n",
        "\n",
        "Combine all the misspelled type tables that you created for each health facility dataset into one excel file. Upload that file to your country's Dictionaries folder in the google drive. "
      ]
    }
  ],
  "metadata": {
    "colab": {
      "collapsed_sections": [],
      "name": "create_spelling_dictionaries.ipynb",
      "provenance": []
    },
    "kernelspec": {
      "display_name": "Python 3",
      "name": "python3"
    },
    "language_info": {
      "name": "python"
    }
  },
  "nbformat": 4,
  "nbformat_minor": 0
}