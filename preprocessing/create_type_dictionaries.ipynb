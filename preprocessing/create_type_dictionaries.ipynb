{
  "nbformat": 4,
  "nbformat_minor": 0,
  "metadata": {
    "colab": {
      "name": "create_type_dictionaries.ipynb",
      "provenance": [],
      "collapsed_sections": []
    },
    "kernelspec": {
      "name": "python3",
      "display_name": "Python 3"
    },
    "language_info": {
      "name": "python"
    }
  },
  "cells": [
    {
      "cell_type": "markdown",
      "source": [
        "## Objective:\n",
        "Creating a list of types of health facilities from facility names in a health facility dataset.\n",
        "\n",
        "#Process\n",
        "\n",
        "\n",
        "### Step 1: \n",
        "* Make a copy of this script and add the name of your country, e.g. type_dictionaries_MOZ. Then, create a facility type table: A facility type will be generated after you run this notebook properly.\n",
        "\n",
        "\n",
        "### Step 2:\n",
        "* Go through each facility type in the facility type table:\n",
        "Check facility types in the generated facility table table, and make correcitons if facility types have any spelling issues. Some of the facility types are abbrivated. Write full name of abbrivated facility names.For example write **HC **as **Health Center** .The facility type table will also have an **\"abbreviation\"** column. Please fill the abbreviation column with the abbreviation of the facility type. For example, if the facility type is Health Center, the abbreviation should be HC.\n",
        "\n",
        "\n",
        "### Step 3:\n",
        "\n",
        "* Repeat steps 1 and 2 for each health facility dataset you have explored in previous landscaping exercises \n",
        "\n",
        "### Step 4:\n",
        "\n",
        "* Combine all the facility type tables that you created for each health facility dataset into one excel file. Upload that file to your country's Dictionaries folder in the google drive. \n",
        "\n",
        "\n",
        "\n"
      ],
      "metadata": {
        "id": "L5j23M1Uc-uN"
      }
    },
    {
      "cell_type": "markdown",
      "source": [
        "# Part 1 : Import Modules\n"
      ],
      "metadata": {
        "id": "DP9sugSQwq6B"
      }
    },
    {
      "cell_type": "markdown",
      "source": [
        "The cell below imports required modules. Just run the cell without modifying it. It does not create any output. It runs very fast. Run the cell by hovering over the cell and clicking the icon in the top left. When it is finished, a green checkmark will appear to the left of the cell.\n"
      ],
      "metadata": {
        "id": "NeySdVNJenC_"
      }
    },
    {
      "cell_type": "code",
      "source": [
        "import pandas as pd\n",
        "import re\n",
        "from google.colab import files\n",
        "import io\n"
      ],
      "metadata": {
        "id": "DkFQNLoVcphu"
      },
      "execution_count": null,
      "outputs": []
    },
    {
      "cell_type": "markdown",
      "source": [
        "# Part 2: Provide required inputs"
      ],
      "metadata": {
        "id": "y5cNyZv0w9cS"
      }
    },
    {
      "cell_type": "markdown",
      "source": [
        "The cell below requires some inputs from you. Please provide required inputs as explained below and then click the run icon on the top left of the cell:\n",
        "\n",
        "\n",
        "*   **country name** : Name of country\n",
        "*   **health_facility_table**: Table name for which you want to create a facility type table. For our case it is one of the health facility datasets you've explored previously. Ideally you should use the HF dataset that you modified with standardized column names. The table file format should be csv or xlsx\n",
        "*   **word_frequency_table**:word_frequency_table that you created from the previous python exercise\n",
        "\n",
        "* **facility_name**: Column name in the input table (aka health facility dataset) for the column that has facility name. If using the HF dataset version that you modified with column name standardization, you would put \"facility_name\" here\n",
        "\n",
        "\n",
        "\n"
      ],
      "metadata": {
        "id": "Oj6jD_ZBga0T"
      }
    },
    {
      "cell_type": "code",
      "source": [
        "country_name=\"UGA\"\n",
        "health_facility_table=\"schools2.csv\"\n",
        "word_frequency_table=\"schools2_word_frequency.csv\"\n",
        "facility_name=\"name\"\n"
      ],
      "metadata": {
        "id": "IryaZ-Q8ckHk"
      },
      "execution_count": null,
      "outputs": []
    },
    {
      "cell_type": "markdown",
      "source": [
        "# Part 3: Upload input table"
      ],
      "metadata": {
        "id": "6Nl01tGYxjVr"
      }
    },
    {
      "cell_type": "markdown",
      "source": [
        "The cell below allows you to choose the input table from your computer. After you run the cell below, you should see a **choose files** option. Click on the **choose files** option and then navigate your computer to find the files you want to read as **health_facility_table** (aka the health facility dataset) and **word_frequency_table** from the last exercise.You can choose both files at the same time. It may take some time for Python to read a table based on file size and speed of your internet connection.\n",
        " \n"
      ],
      "metadata": {
        "id": "cS5oWhC6ip-f"
      }
    },
    {
      "cell_type": "code",
      "source": [
        "uploaded=files.upload()"
      ],
      "metadata": {
        "colab": {
          "base_uri": "https://localhost:8080/",
          "height": 110,
          "resources": {
            "http://localhost:8080/nbextensions/google.colab/files.js": {
              "data": "Ly8gQ29weXJpZ2h0IDIwMTcgR29vZ2xlIExMQwovLwovLyBMaWNlbnNlZCB1bmRlciB0aGUgQXBhY2hlIExpY2Vuc2UsIFZlcnNpb24gMi4wICh0aGUgIkxpY2Vuc2UiKTsKLy8geW91IG1heSBub3QgdXNlIHRoaXMgZmlsZSBleGNlcHQgaW4gY29tcGxpYW5jZSB3aXRoIHRoZSBMaWNlbnNlLgovLyBZb3UgbWF5IG9idGFpbiBhIGNvcHkgb2YgdGhlIExpY2Vuc2UgYXQKLy8KLy8gICAgICBodHRwOi8vd3d3LmFwYWNoZS5vcmcvbGljZW5zZXMvTElDRU5TRS0yLjAKLy8KLy8gVW5sZXNzIHJlcXVpcmVkIGJ5IGFwcGxpY2FibGUgbGF3IG9yIGFncmVlZCB0byBpbiB3cml0aW5nLCBzb2Z0d2FyZQovLyBkaXN0cmlidXRlZCB1bmRlciB0aGUgTGljZW5zZSBpcyBkaXN0cmlidXRlZCBvbiBhbiAiQVMgSVMiIEJBU0lTLAovLyBXSVRIT1VUIFdBUlJBTlRJRVMgT1IgQ09ORElUSU9OUyBPRiBBTlkgS0lORCwgZWl0aGVyIGV4cHJlc3Mgb3IgaW1wbGllZC4KLy8gU2VlIHRoZSBMaWNlbnNlIGZvciB0aGUgc3BlY2lmaWMgbGFuZ3VhZ2UgZ292ZXJuaW5nIHBlcm1pc3Npb25zIGFuZAovLyBsaW1pdGF0aW9ucyB1bmRlciB0aGUgTGljZW5zZS4KCi8qKgogKiBAZmlsZW92ZXJ2aWV3IEhlbHBlcnMgZm9yIGdvb2dsZS5jb2xhYiBQeXRob24gbW9kdWxlLgogKi8KKGZ1bmN0aW9uKHNjb3BlKSB7CmZ1bmN0aW9uIHNwYW4odGV4dCwgc3R5bGVBdHRyaWJ1dGVzID0ge30pIHsKICBjb25zdCBlbGVtZW50ID0gZG9jdW1lbnQuY3JlYXRlRWxlbWVudCgnc3BhbicpOwogIGVsZW1lbnQudGV4dENvbnRlbnQgPSB0ZXh0OwogIGZvciAoY29uc3Qga2V5IG9mIE9iamVjdC5rZXlzKHN0eWxlQXR0cmlidXRlcykpIHsKICAgIGVsZW1lbnQuc3R5bGVba2V5XSA9IHN0eWxlQXR0cmlidXRlc1trZXldOwogIH0KICByZXR1cm4gZWxlbWVudDsKfQoKLy8gTWF4IG51bWJlciBvZiBieXRlcyB3aGljaCB3aWxsIGJlIHVwbG9hZGVkIGF0IGEgdGltZS4KY29uc3QgTUFYX1BBWUxPQURfU0laRSA9IDEwMCAqIDEwMjQ7CgpmdW5jdGlvbiBfdXBsb2FkRmlsZXMoaW5wdXRJZCwgb3V0cHV0SWQpIHsKICBjb25zdCBzdGVwcyA9IHVwbG9hZEZpbGVzU3RlcChpbnB1dElkLCBvdXRwdXRJZCk7CiAgY29uc3Qgb3V0cHV0RWxlbWVudCA9IGRvY3VtZW50LmdldEVsZW1lbnRCeUlkKG91dHB1dElkKTsKICAvLyBDYWNoZSBzdGVwcyBvbiB0aGUgb3V0cHV0RWxlbWVudCB0byBtYWtlIGl0IGF2YWlsYWJsZSBmb3IgdGhlIG5leHQgY2FsbAogIC8vIHRvIHVwbG9hZEZpbGVzQ29udGludWUgZnJvbSBQeXRob24uCiAgb3V0cHV0RWxlbWVudC5zdGVwcyA9IHN0ZXBzOwoKICByZXR1cm4gX3VwbG9hZEZpbGVzQ29udGludWUob3V0cHV0SWQpOwp9CgovLyBUaGlzIGlzIHJvdWdobHkgYW4gYXN5bmMgZ2VuZXJhdG9yIChub3Qgc3VwcG9ydGVkIGluIHRoZSBicm93c2VyIHlldCksCi8vIHdoZXJlIHRoZXJlIGFyZSBtdWx0aXBsZSBhc3luY2hyb25vdXMgc3RlcHMgYW5kIHRoZSBQeXRob24gc2lkZSBpcyBnb2luZwovLyB0byBwb2xsIGZvciBjb21wbGV0aW9uIG9mIGVhY2ggc3RlcC4KLy8gVGhpcyB1c2VzIGEgUHJvbWlzZSB0byBibG9jayB0aGUgcHl0aG9uIHNpZGUgb24gY29tcGxldGlvbiBvZiBlYWNoIHN0ZXAsCi8vIHRoZW4gcGFzc2VzIHRoZSByZXN1bHQgb2YgdGhlIHByZXZpb3VzIHN0ZXAgYXMgdGhlIGlucHV0IHRvIHRoZSBuZXh0IHN0ZXAuCmZ1bmN0aW9uIF91cGxvYWRGaWxlc0NvbnRpbnVlKG91dHB1dElkKSB7CiAgY29uc3Qgb3V0cHV0RWxlbWVudCA9IGRvY3VtZW50LmdldEVsZW1lbnRCeUlkKG91dHB1dElkKTsKICBjb25zdCBzdGVwcyA9IG91dHB1dEVsZW1lbnQuc3RlcHM7CgogIGNvbnN0IG5leHQgPSBzdGVwcy5uZXh0KG91dHB1dEVsZW1lbnQubGFzdFByb21pc2VWYWx1ZSk7CiAgcmV0dXJuIFByb21pc2UucmVzb2x2ZShuZXh0LnZhbHVlLnByb21pc2UpLnRoZW4oKHZhbHVlKSA9PiB7CiAgICAvLyBDYWNoZSB0aGUgbGFzdCBwcm9taXNlIHZhbHVlIHRvIG1ha2UgaXQgYXZhaWxhYmxlIHRvIHRoZSBuZXh0CiAgICAvLyBzdGVwIG9mIHRoZSBnZW5lcmF0b3IuCiAgICBvdXRwdXRFbGVtZW50Lmxhc3RQcm9taXNlVmFsdWUgPSB2YWx1ZTsKICAgIHJldHVybiBuZXh0LnZhbHVlLnJlc3BvbnNlOwogIH0pOwp9CgovKioKICogR2VuZXJhdG9yIGZ1bmN0aW9uIHdoaWNoIGlzIGNhbGxlZCBiZXR3ZWVuIGVhY2ggYXN5bmMgc3RlcCBvZiB0aGUgdXBsb2FkCiAqIHByb2Nlc3MuCiAqIEBwYXJhbSB7c3RyaW5nfSBpbnB1dElkIEVsZW1lbnQgSUQgb2YgdGhlIGlucHV0IGZpbGUgcGlja2VyIGVsZW1lbnQuCiAqIEBwYXJhbSB7c3RyaW5nfSBvdXRwdXRJZCBFbGVtZW50IElEIG9mIHRoZSBvdXRwdXQgZGlzcGxheS4KICogQHJldHVybiB7IUl0ZXJhYmxlPCFPYmplY3Q+fSBJdGVyYWJsZSBvZiBuZXh0IHN0ZXBzLgogKi8KZnVuY3Rpb24qIHVwbG9hZEZpbGVzU3RlcChpbnB1dElkLCBvdXRwdXRJZCkgewogIGNvbnN0IGlucHV0RWxlbWVudCA9IGRvY3VtZW50LmdldEVsZW1lbnRCeUlkKGlucHV0SWQpOwogIGlucHV0RWxlbWVudC5kaXNhYmxlZCA9IGZhbHNlOwoKICBjb25zdCBvdXRwdXRFbGVtZW50ID0gZG9jdW1lbnQuZ2V0RWxlbWVudEJ5SWQob3V0cHV0SWQpOwogIG91dHB1dEVsZW1lbnQuaW5uZXJIVE1MID0gJyc7CgogIGNvbnN0IHBpY2tlZFByb21pc2UgPSBuZXcgUHJvbWlzZSgocmVzb2x2ZSkgPT4gewogICAgaW5wdXRFbGVtZW50LmFkZEV2ZW50TGlzdGVuZXIoJ2NoYW5nZScsIChlKSA9PiB7CiAgICAgIHJlc29sdmUoZS50YXJnZXQuZmlsZXMpOwogICAgfSk7CiAgfSk7CgogIGNvbnN0IGNhbmNlbCA9IGRvY3VtZW50LmNyZWF0ZUVsZW1lbnQoJ2J1dHRvbicpOwogIGlucHV0RWxlbWVudC5wYXJlbnRFbGVtZW50LmFwcGVuZENoaWxkKGNhbmNlbCk7CiAgY2FuY2VsLnRleHRDb250ZW50ID0gJ0NhbmNlbCB1cGxvYWQnOwogIGNvbnN0IGNhbmNlbFByb21pc2UgPSBuZXcgUHJvbWlzZSgocmVzb2x2ZSkgPT4gewogICAgY2FuY2VsLm9uY2xpY2sgPSAoKSA9PiB7CiAgICAgIHJlc29sdmUobnVsbCk7CiAgICB9OwogIH0pOwoKICAvLyBXYWl0IGZvciB0aGUgdXNlciB0byBwaWNrIHRoZSBmaWxlcy4KICBjb25zdCBmaWxlcyA9IHlpZWxkIHsKICAgIHByb21pc2U6IFByb21pc2UucmFjZShbcGlja2VkUHJvbWlzZSwgY2FuY2VsUHJvbWlzZV0pLAogICAgcmVzcG9uc2U6IHsKICAgICAgYWN0aW9uOiAnc3RhcnRpbmcnLAogICAgfQogIH07CgogIGNhbmNlbC5yZW1vdmUoKTsKCiAgLy8gRGlzYWJsZSB0aGUgaW5wdXQgZWxlbWVudCBzaW5jZSBmdXJ0aGVyIHBpY2tzIGFyZSBub3QgYWxsb3dlZC4KICBpbnB1dEVsZW1lbnQuZGlzYWJsZWQgPSB0cnVlOwoKICBpZiAoIWZpbGVzKSB7CiAgICByZXR1cm4gewogICAgICByZXNwb25zZTogewogICAgICAgIGFjdGlvbjogJ2NvbXBsZXRlJywKICAgICAgfQogICAgfTsKICB9CgogIGZvciAoY29uc3QgZmlsZSBvZiBmaWxlcykgewogICAgY29uc3QgbGkgPSBkb2N1bWVudC5jcmVhdGVFbGVtZW50KCdsaScpOwogICAgbGkuYXBwZW5kKHNwYW4oZmlsZS5uYW1lLCB7Zm9udFdlaWdodDogJ2JvbGQnfSkpOwogICAgbGkuYXBwZW5kKHNwYW4oCiAgICAgICAgYCgke2ZpbGUudHlwZSB8fCAnbi9hJ30pIC0gJHtmaWxlLnNpemV9IGJ5dGVzLCBgICsKICAgICAgICBgbGFzdCBtb2RpZmllZDogJHsKICAgICAgICAgICAgZmlsZS5sYXN0TW9kaWZpZWREYXRlID8gZmlsZS5sYXN0TW9kaWZpZWREYXRlLnRvTG9jYWxlRGF0ZVN0cmluZygpIDoKICAgICAgICAgICAgICAgICAgICAgICAgICAgICAgICAgICAgJ24vYSd9IC0gYCkpOwogICAgY29uc3QgcGVyY2VudCA9IHNwYW4oJzAlIGRvbmUnKTsKICAgIGxpLmFwcGVuZENoaWxkKHBlcmNlbnQpOwoKICAgIG91dHB1dEVsZW1lbnQuYXBwZW5kQ2hpbGQobGkpOwoKICAgIGNvbnN0IGZpbGVEYXRhUHJvbWlzZSA9IG5ldyBQcm9taXNlKChyZXNvbHZlKSA9PiB7CiAgICAgIGNvbnN0IHJlYWRlciA9IG5ldyBGaWxlUmVhZGVyKCk7CiAgICAgIHJlYWRlci5vbmxvYWQgPSAoZSkgPT4gewogICAgICAgIHJlc29sdmUoZS50YXJnZXQucmVzdWx0KTsKICAgICAgfTsKICAgICAgcmVhZGVyLnJlYWRBc0FycmF5QnVmZmVyKGZpbGUpOwogICAgfSk7CiAgICAvLyBXYWl0IGZvciB0aGUgZGF0YSB0byBiZSByZWFkeS4KICAgIGxldCBmaWxlRGF0YSA9IHlpZWxkIHsKICAgICAgcHJvbWlzZTogZmlsZURhdGFQcm9taXNlLAogICAgICByZXNwb25zZTogewogICAgICAgIGFjdGlvbjogJ2NvbnRpbnVlJywKICAgICAgfQogICAgfTsKCiAgICAvLyBVc2UgYSBjaHVua2VkIHNlbmRpbmcgdG8gYXZvaWQgbWVzc2FnZSBzaXplIGxpbWl0cy4gU2VlIGIvNjIxMTU2NjAuCiAgICBsZXQgcG9zaXRpb24gPSAwOwogICAgZG8gewogICAgICBjb25zdCBsZW5ndGggPSBNYXRoLm1pbihmaWxlRGF0YS5ieXRlTGVuZ3RoIC0gcG9zaXRpb24sIE1BWF9QQVlMT0FEX1NJWkUpOwogICAgICBjb25zdCBjaHVuayA9IG5ldyBVaW50OEFycmF5KGZpbGVEYXRhLCBwb3NpdGlvbiwgbGVuZ3RoKTsKICAgICAgcG9zaXRpb24gKz0gbGVuZ3RoOwoKICAgICAgY29uc3QgYmFzZTY0ID0gYnRvYShTdHJpbmcuZnJvbUNoYXJDb2RlLmFwcGx5KG51bGwsIGNodW5rKSk7CiAgICAgIHlpZWxkIHsKICAgICAgICByZXNwb25zZTogewogICAgICAgICAgYWN0aW9uOiAnYXBwZW5kJywKICAgICAgICAgIGZpbGU6IGZpbGUubmFtZSwKICAgICAgICAgIGRhdGE6IGJhc2U2NCwKICAgICAgICB9LAogICAgICB9OwoKICAgICAgbGV0IHBlcmNlbnREb25lID0gZmlsZURhdGEuYnl0ZUxlbmd0aCA9PT0gMCA/CiAgICAgICAgICAxMDAgOgogICAgICAgICAgTWF0aC5yb3VuZCgocG9zaXRpb24gLyBmaWxlRGF0YS5ieXRlTGVuZ3RoKSAqIDEwMCk7CiAgICAgIHBlcmNlbnQudGV4dENvbnRlbnQgPSBgJHtwZXJjZW50RG9uZX0lIGRvbmVgOwoKICAgIH0gd2hpbGUgKHBvc2l0aW9uIDwgZmlsZURhdGEuYnl0ZUxlbmd0aCk7CiAgfQoKICAvLyBBbGwgZG9uZS4KICB5aWVsZCB7CiAgICByZXNwb25zZTogewogICAgICBhY3Rpb246ICdjb21wbGV0ZScsCiAgICB9CiAgfTsKfQoKc2NvcGUuZ29vZ2xlID0gc2NvcGUuZ29vZ2xlIHx8IHt9OwpzY29wZS5nb29nbGUuY29sYWIgPSBzY29wZS5nb29nbGUuY29sYWIgfHwge307CnNjb3BlLmdvb2dsZS5jb2xhYi5fZmlsZXMgPSB7CiAgX3VwbG9hZEZpbGVzLAogIF91cGxvYWRGaWxlc0NvbnRpbnVlLAp9Owp9KShzZWxmKTsK",
              "ok": true,
              "headers": [
                [
                  "content-type",
                  "application/javascript"
                ]
              ],
              "status": 200,
              "status_text": ""
            }
          }
        },
        "id": "K4-cHe6xc6FX",
        "outputId": "cfa582cb-69b8-4bfc-a23b-77f405e6c633"
      },
      "execution_count": null,
      "outputs": [
        {
          "output_type": "display_data",
          "data": {
            "text/plain": [
              "<IPython.core.display.HTML object>"
            ],
            "text/html": [
              "\n",
              "     <input type=\"file\" id=\"files-58f6ec44-ca6d-4434-ada3-e4dd39a5070d\" name=\"files[]\" multiple disabled\n",
              "        style=\"border:none\" />\n",
              "     <output id=\"result-58f6ec44-ca6d-4434-ada3-e4dd39a5070d\">\n",
              "      Upload widget is only available when the cell has been executed in the\n",
              "      current browser session. Please rerun this cell to enable.\n",
              "      </output>\n",
              "      <script src=\"/nbextensions/google.colab/files.js\"></script> "
            ]
          },
          "metadata": {}
        },
        {
          "output_type": "stream",
          "name": "stdout",
          "text": [
            "Saving schools2.csv to schools2.csv\n",
            "Saving schools2_word_frequency.csv to schools2_word_frequency.csv\n"
          ]
        }
      ]
    },
    {
      "cell_type": "markdown",
      "source": [
        "#Part 4: Create word frequency table"
      ],
      "metadata": {
        "id": "EmOq-aNOxwme"
      }
    },
    {
      "cell_type": "markdown",
      "source": [
        "Run the cell below. No need for any modification. After processing is done, you should see a csv file downloaded to your computer. The file is going to be saved in your **downloads** directory. The output table will have the same name as the health facility dataset with type_dictionary at the end. For example, if the input table name is DRC_health_facility, the output table name is going to be DRC_health_facility_type_dictionary."
      ],
      "metadata": {
        "id": "gb8NkV48mVu6"
      }
    },
    {
      "cell_type": "code",
      "source": [
        "def preclean(df, input_variable, output_variable, remove_accent=False):\n",
        "  '''\n",
        "    Basic cleaning and standardization of a column\n",
        "    :param df: dataframe\n",
        "    :param input_variable: a column name to be cleaned/standardized\n",
        "    :param output_variable: cleaned/standardized column name\n",
        "    :param remove_accent:remove french characters\n",
        "    :return: dataframe\n",
        "  '''\n",
        "    ##=============================================================================#\n",
        "  df[output_variable] = df[input_variable] + \" \"\n",
        "  # replace NAs with empty string ''\n",
        "  df[output_variable] = df[output_variable].fillna('')\n",
        "  # remove accent marks\n",
        "  if remove_accent:\n",
        "      df[output_variable] = [unidecode.unidecode(n) for n in df[output_variable]]\n",
        "  df[output_variable] = df[output_variable] \\\n",
        "      .str.replace(\" III | Iii  | iii \", \" 3 \") \\\n",
        "      .str.replace(\" II | Ii  | ii \", \" 2 \") \\\n",
        "      .str.replace(\" I | i \", \" 1 \") \\\n",
        "      .str.replace(\" IV | Iv | iv \", \" 4 \") \\\n",
        "      .str.replace('&', 'and')\n",
        "  df[output_variable] = df[output_variable].apply(lambda x: \" \".join(re.split('(\\d+)', x)))\n",
        "  df[output_variable] = df[output_variable].map(lambda x: re.sub(r'[^a-zA-Z0-9]', ' ', x)).str.strip().str.replace(\"  \",\" \")\n",
        "  df[output_variable] = df[output_variable].str.title(). \\\n",
        "      str.replace(r'\\s+', ' ').str.strip()\n",
        "  # replace NAs in output_variable with empty string ''\n",
        "  df[output_variable] = df[output_variable].fillna(' ')\n",
        "\n",
        "\n",
        "\n",
        "\n",
        "def create_type_dict(df,input_var,word_frequancy_table, admin_name):\n",
        "  '''\n",
        "\n",
        "  :param df:  input df\n",
        "  :param input_var: Name of the field to extract type info\n",
        "  :param file_format: format of the input data\n",
        "  :param word_frequancy_table: Word frequnacy table with words that refer to type of facility\n",
        "  :param admin_name: name of the admin. It can be a country name, district name or province name\n",
        "  :param output_path: location to save word frequancy table\n",
        "  :return: type table\n",
        "  '''\n",
        "\n",
        "  # rea word frequancy table\n",
        "\n",
        "  key_words=word_frequancy_table[\"words\"].str.strip().tolist()\n",
        "  \n",
        "  preclean(df, input_var, \"clean_name\")\n",
        "  for index, row in df.iterrows():\n",
        "      name = df.at[index, \"clean_name\"].split()\n",
        "      name_kept=[i for i in name if i not in key_words]\n",
        "      df.at[index, \"only_name\"] = \" \".join(name_kept)\n",
        "\n",
        "\n",
        "  for index, row in df.iterrows():\n",
        "      only_name =df.at[index, \"only_name\"].split(\" \")\n",
        "      full_name = df.at[index, \"clean_name\"].split(\" \")\n",
        "      name_kept=[i for i in full_name if i not in only_name]\n",
        "      df.at[index, \"only_type\"] = \" \".join(name_kept)\n",
        "\n",
        "  # Export list of facility types\n",
        "  type_count = df[\"only_type\"].value_counts()\n",
        "  type_count_df = pd.DataFrame(type_count).reset_index().rename({\"only_type\": \"count\", \"index\": \"type\"}, axis=1)\n",
        "  type_count_df[\"country\"] = admin_name\n",
        "  type_count_df[\"abbreviation\"] = \"\"\n",
        "  type_count_df[[\"country\", \"type\", \"abbreviation\", \"count\"]]\n",
        "      #to_csv(os.path.join(output_path, \"{}_type_dict.csv\".format(admin_name)), encoding='latin-1', index=False)\n",
        "  #df.drop([\"only_name\",\"only_type\",\"clean_name\"], axis=1, inplace=True)\n",
        "  return  type_count_df\n",
        "\n",
        "\n",
        "# read health facility table\n",
        "if health_facility_table.endswith(\".csv\"):  \n",
        "  hf_df=pd.read_csv(io.BytesIO(uploaded[health_facility_table])) \n",
        "elif health_facility_table.endswith(\".xlsx\") :  \n",
        "  hf_df=pd.read_excel(io.BytesIO(uploaded[health_facility_table])) \n",
        "\n",
        "# read word frequency table table\n",
        "if word_frequency_table.endswith(\".csv\"):  \n",
        "  wf_df=pd.read_csv(io.BytesIO(uploaded[word_frequency_table])) \n",
        "elif word_frequency_table.endswith(\".xlsx\") :  \n",
        "  wf_df=pd.read_excel(io.BytesIO(uploaded[word_frequency_table])) \n",
        "tpye_df=create_type_dict(hf_df,facility_name,wf_df, country_name)\n",
        "#export type_df\n",
        "output_table_name=health_facility_table.split(\".\")[0]+\"_type_dictionary.csv\"\n",
        "tpye_df.to_csv(output_table_name)\n",
        "files.download(output_table_name)"
      ],
      "metadata": {
        "colab": {
          "base_uri": "https://localhost:8080/",
          "height": 53
        },
        "id": "_KH2cFtccwOR",
        "outputId": "54da15dc-a7f1-46a9-ae54-2f74ea7ed520"
      },
      "execution_count": null,
      "outputs": [
        {
          "output_type": "stream",
          "name": "stderr",
          "text": [
            "/usr/local/lib/python3.7/dist-packages/ipykernel_launcher.py:17: FutureWarning: The default value of regex will change from True to False in a future version.\n",
            "/usr/local/lib/python3.7/dist-packages/ipykernel_launcher.py:20: FutureWarning: The default value of regex will change from True to False in a future version.\n"
          ]
        },
        {
          "output_type": "display_data",
          "data": {
            "text/plain": [
              "<IPython.core.display.Javascript object>"
            ],
            "application/javascript": [
              "\n",
              "    async function download(id, filename, size) {\n",
              "      if (!google.colab.kernel.accessAllowed) {\n",
              "        return;\n",
              "      }\n",
              "      const div = document.createElement('div');\n",
              "      const label = document.createElement('label');\n",
              "      label.textContent = `Downloading \"${filename}\": `;\n",
              "      div.appendChild(label);\n",
              "      const progress = document.createElement('progress');\n",
              "      progress.max = size;\n",
              "      div.appendChild(progress);\n",
              "      document.body.appendChild(div);\n",
              "\n",
              "      const buffers = [];\n",
              "      let downloaded = 0;\n",
              "\n",
              "      const channel = await google.colab.kernel.comms.open(id);\n",
              "      // Send a message to notify the kernel that we're ready.\n",
              "      channel.send({})\n",
              "\n",
              "      for await (const message of channel.messages) {\n",
              "        // Send a message to notify the kernel that we're ready.\n",
              "        channel.send({})\n",
              "        if (message.buffers) {\n",
              "          for (const buffer of message.buffers) {\n",
              "            buffers.push(buffer);\n",
              "            downloaded += buffer.byteLength;\n",
              "            progress.value = downloaded;\n",
              "          }\n",
              "        }\n",
              "      }\n",
              "      const blob = new Blob(buffers, {type: 'application/binary'});\n",
              "      const a = document.createElement('a');\n",
              "      a.href = window.URL.createObjectURL(blob);\n",
              "      a.download = filename;\n",
              "      div.appendChild(a);\n",
              "      a.click();\n",
              "      div.remove();\n",
              "    }\n",
              "  "
            ]
          },
          "metadata": {}
        },
        {
          "output_type": "display_data",
          "data": {
            "text/plain": [
              "<IPython.core.display.Javascript object>"
            ],
            "application/javascript": [
              "download(\"download_3566801d-0dec-4da6-acb6-8349b5e85891\", \"schools2_type_dictionary.csv\", 49072)"
            ]
          },
          "metadata": {}
        }
      ]
    },
    {
      "cell_type": "markdown",
      "source": [
        "#Part 5: Repeat for all datasets and combine into one file"
      ],
      "metadata": {
        "id": "pxEALiiW0-Hi"
      }
    },
    {
      "cell_type": "markdown",
      "source": [
        "Repeat all steps for each health facility dataset you have explored in previous landscaping exercises \n",
        "\n",
        "Combine all the facility type tables that you created for each health facility dataset into one excel file. Upload that file to your country's Dictionaries folder in the google drive. "
      ],
      "metadata": {
        "id": "EHo4AUPi1P-U"
      }
    }
  ]
}